{
 "cells": [
  {
   "cell_type": "code",
   "execution_count": 1,
   "id": "bcf61f72",
   "metadata": {},
   "outputs": [],
   "source": [
    "import numpy as np"
   ]
  },
  {
   "cell_type": "code",
   "execution_count": 2,
   "id": "c55df664",
   "metadata": {},
   "outputs": [],
   "source": [
    "#matris\n",
    "A=[[1,2,3],[4,5,6]]"
   ]
  },
  {
   "cell_type": "code",
   "execution_count": 3,
   "id": "f6560627",
   "metadata": {},
   "outputs": [
    {
     "name": "stdout",
     "output_type": "stream",
     "text": [
      "[[1, 2, 3], [4, 5, 6]]\n"
     ]
    }
   ],
   "source": [
    "print(A)"
   ]
  },
  {
   "cell_type": "code",
   "execution_count": 4,
   "id": "1ec9670d",
   "metadata": {},
   "outputs": [
    {
     "name": "stdout",
     "output_type": "stream",
     "text": [
      "[[2 4 6]\n",
      " [1 3 5]]\n"
     ]
    }
   ],
   "source": [
    "B=np.array([[2,4,6],[1,3,5]])\n",
    "print(B)"
   ]
  },
  {
   "cell_type": "code",
   "execution_count": 5,
   "id": "8d97329e",
   "metadata": {},
   "outputs": [],
   "source": [
    "array=np.zeros((2,4))"
   ]
  },
  {
   "cell_type": "code",
   "execution_count": 6,
   "id": "9c773abc",
   "metadata": {},
   "outputs": [
    {
     "name": "stdout",
     "output_type": "stream",
     "text": [
      "[[0. 0. 0. 0.]\n",
      " [0. 0. 0. 0.]]\n"
     ]
    }
   ],
   "source": [
    "print(array)"
   ]
  },
  {
   "cell_type": "code",
   "execution_count": 7,
   "id": "8625a749",
   "metadata": {},
   "outputs": [],
   "source": [
    "array2=np.ones((1,6))"
   ]
  },
  {
   "cell_type": "code",
   "execution_count": 8,
   "id": "ec1305ee",
   "metadata": {},
   "outputs": [
    {
     "name": "stdout",
     "output_type": "stream",
     "text": [
      "[[1. 1. 1. 1. 1. 1.]]\n"
     ]
    }
   ],
   "source": [
    "print(array2)"
   ]
  },
  {
   "cell_type": "code",
   "execution_count": 9,
   "id": "44bd6bd2",
   "metadata": {},
   "outputs": [],
   "source": [
    "array3=np.eye(4)"
   ]
  },
  {
   "cell_type": "code",
   "execution_count": 10,
   "id": "e763283a",
   "metadata": {},
   "outputs": [
    {
     "name": "stdout",
     "output_type": "stream",
     "text": [
      "[[1. 0. 0. 0.]\n",
      " [0. 1. 0. 0.]\n",
      " [0. 0. 1. 0.]\n",
      " [0. 0. 0. 1.]]\n"
     ]
    }
   ],
   "source": [
    "print(array3)"
   ]
  },
  {
   "cell_type": "code",
   "execution_count": 14,
   "id": "d8382de7",
   "metadata": {},
   "outputs": [
    {
     "name": "stdout",
     "output_type": "stream",
     "text": [
      "4\n"
     ]
    }
   ],
   "source": [
    "#return random integers\n",
    "array4=np.random.randint(20)\n",
    "print(array4)"
   ]
  },
  {
   "cell_type": "code",
   "execution_count": 17,
   "id": "eff0776e",
   "metadata": {},
   "outputs": [
    {
     "name": "stdout",
     "output_type": "stream",
     "text": [
      "[-0.74980131 -1.17379    -0.1912139   0.91627759  1.33045118  0.70473063\n",
      "  0.27190001 -0.97564123 -0.54031814  0.61883259]\n"
     ]
    }
   ],
   "source": [
    "array5=np.random.randn(10)\n",
    "print(array5)"
   ]
  },
  {
   "cell_type": "code",
   "execution_count": 18,
   "id": "61373cdb",
   "metadata": {},
   "outputs": [
    {
     "name": "stdout",
     "output_type": "stream",
     "text": [
      "[0.10435579 0.36338956 0.80568586 0.71375071 0.3691737 ]\n"
     ]
    }
   ],
   "source": [
    "array6=np.random.rand(5)\n",
    "print(array6)"
   ]
  },
  {
   "cell_type": "code",
   "execution_count": 21,
   "id": "f13ae428",
   "metadata": {},
   "outputs": [
    {
     "name": "stdout",
     "output_type": "stream",
     "text": [
      "[[1 2]\n",
      " [3 4]\n",
      " [6 7]]\n"
     ]
    }
   ],
   "source": [
    "array7=np.matrix('1 2; 3 4;6 7')\n",
    "print(array7)"
   ]
  },
  {
   "cell_type": "code",
   "execution_count": 22,
   "id": "5309d2a2",
   "metadata": {},
   "outputs": [
    {
     "name": "stdout",
     "output_type": "stream",
     "text": [
      "kaç tane sayı girilecek?3\n",
      "sayi gir 5\n",
      "sayi gir -9\n",
      "sayi gir 7\n",
      "en büyük sayı:  7\n"
     ]
    }
   ],
   "source": [
    "adet=int(input(\"kaç tane sayı girilecek?\"))\n",
    "max=0\n",
    "for i in range(0,adet):\n",
    "    sayi=int(input(\"sayi gir \"))\n",
    "    if sayi > max:\n",
    "        max=sayi\n",
    "\n",
    "print(\"en büyük sayı: \",sayi)"
   ]
  },
  {
   "cell_type": "code",
   "execution_count": 23,
   "id": "d1c44689",
   "metadata": {},
   "outputs": [
    {
     "name": "stdout",
     "output_type": "stream",
     "text": [
      "kaç tane sayı girilecek?4\n"
     ]
    }
   ],
   "source": [
    "adet=int(input(\"kaç tane sayı girilecek?\"))"
   ]
  },
  {
   "cell_type": "code",
   "execution_count": 24,
   "id": "c8191d08",
   "metadata": {},
   "outputs": [],
   "source": [
    "max=0"
   ]
  },
  {
   "cell_type": "code",
   "execution_count": null,
   "id": "2d83ed52",
   "metadata": {},
   "outputs": [],
   "source": [
    "for i in range(0,adet):\n",
    "    sayi=int(input(\"sayi gir \"))\n",
    "    if sayi > max:\n",
    "        max=sayi\n",
    "\n",
    "print(\"en büyük sayı: \",sayi)"
   ]
  },
  {
   "cell_type": "code",
   "execution_count": null,
   "id": "737237a8",
   "metadata": {},
   "outputs": [],
   "source": []
  }
 ],
 "metadata": {
  "kernelspec": {
   "display_name": "Python 3 (ipykernel)",
   "language": "python",
   "name": "python3"
  },
  "language_info": {
   "codemirror_mode": {
    "name": "ipython",
    "version": 3
   },
   "file_extension": ".py",
   "mimetype": "text/x-python",
   "name": "python",
   "nbconvert_exporter": "python",
   "pygments_lexer": "ipython3",
   "version": "3.11.5"
  }
 },
 "nbformat": 4,
 "nbformat_minor": 5
}
